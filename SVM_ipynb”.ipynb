{
  "nbformat": 4,
  "nbformat_minor": 0,
  "metadata": {
    "colab": {
      "provenance": [],
      "machine_shape": "hm",
      "include_colab_link": true
    },
    "kernelspec": {
      "name": "python3",
      "display_name": "Python 3"
    },
    "language_info": {
      "name": "python"
    }
  },
  "cells": [
    {
      "cell_type": "markdown",
      "metadata": {
        "id": "view-in-github",
        "colab_type": "text"
      },
      "source": [
        "<a href=\"https://colab.research.google.com/github/SiyuanWuSFU/CM-T310-Artificial-Intelligence-Survey/blob/master/SVM_ipynb%E2%80%9D.ipynb\" target=\"_parent\"><img src=\"https://colab.research.google.com/assets/colab-badge.svg\" alt=\"Open In Colab\"/></a>"
      ]
    },
    {
      "cell_type": "markdown",
      "source": [
        "This file is used to download Kaggle datasets into a personal Google Drive.\n",
        "In order to use this, we need a kaggle.json file, which contains the API credentials.\n",
        "To obtain a kaggle.json file, sign into your Kaggle account and go to your profile, then 'My Account'. Under the API section, click 'Create New API Token' to generate the kaggle.json file. Afterwards, save it in the same directory as this .ipynb file."
      ],
      "metadata": {
        "id": "ZtIoc4SJZSZs"
      }
    },
    {
      "cell_type": "code",
      "source": [
        "!pip install tensorflow_addons\n",
        "!pip install tensorflow\n",
        "!pip install tensorflow --upgrade\n",
        "!pip install keras --upgrade"
      ],
      "metadata": {
        "id": "-7V6Iy1YHGc5"
      },
      "execution_count": null,
      "outputs": []
    },
    {
      "cell_type": "code",
      "source": [
        "!pip uninstall tensorflow_decision_forests\n"
      ],
      "metadata": {
        "colab": {
          "base_uri": "https://localhost:8080/"
        },
        "id": "8S36vuwWPvN2",
        "outputId": "e36e068e-6c95-4f73-b024-805b52366909"
      },
      "execution_count": 56,
      "outputs": [
        {
          "output_type": "stream",
          "name": "stdout",
          "text": [
            "Found existing installation: tensorflow-decision-forests 1.5.0\n",
            "Uninstalling tensorflow-decision-forests-1.5.0:\n",
            "  Would remove:\n",
            "    /usr/local/lib/python3.10/dist-packages/tensorflow_decision_forests-1.5.0.dist-info/*\n",
            "    /usr/local/lib/python3.10/dist-packages/tensorflow_decision_forests/*\n",
            "    /usr/local/lib/python3.10/dist-packages/yggdrasil_decision_forests/*\n",
            "Proceed (Y/n)? Y\n",
            "  Successfully uninstalled tensorflow-decision-forests-1.5.0\n"
          ]
        }
      ]
    },
    {
      "cell_type": "code",
      "source": [
        "import tensorflow as tf\n",
        "import tensorflow_addons as tfa\n",
        "import pandas as pd\n",
        "import numpy as np\n",
        "import matplotlib.pyplot as plt\n"
      ],
      "metadata": {
        "id": "TatOgQbEGqpp",
        "colab": {
          "base_uri": "https://localhost:8080/"
        },
        "outputId": "c598c4e3-92d2-47fe-ada5-317e8b8b8c6f"
      },
      "execution_count": 1,
      "outputs": [
        {
          "output_type": "stream",
          "name": "stderr",
          "text": [
            "/usr/local/lib/python3.10/dist-packages/tensorflow_addons/utils/tfa_eol_msg.py:23: UserWarning: \n",
            "\n",
            "TensorFlow Addons (TFA) has ended development and introduction of new features.\n",
            "TFA has entered a minimal maintenance and release mode until a planned end of life in May 2024.\n",
            "Please modify downstream libraries to take dependencies from other repositories in our TensorFlow community (e.g. Keras, Keras-CV, and Keras-NLP). \n",
            "\n",
            "For more information see: https://github.com/tensorflow/addons/issues/2807 \n",
            "\n",
            "  warnings.warn(\n"
          ]
        }
      ]
    },
    {
      "cell_type": "code",
      "source": [
        "dtypes={\n",
        "    'elapsed_time':np.float32,\n",
        "    'event_name':'category',\n",
        "    'name':'category',\n",
        "    'level':np.uint8,\n",
        "    'room_coor_x':np.float32,\n",
        "    'room_coor_y':np.float32,\n",
        "    'screen_coor_x':np.float32,\n",
        "    'screen_coor_y':np.float32,\n",
        "    'hover_duration':np.float32,\n",
        "    'text':'category',\n",
        "    'fqid':'category',\n",
        "    'room_fqid':'category',\n",
        "    'text_fqid':'category',\n",
        "    'fullscreen':'category',\n",
        "    'hq':'category',\n",
        "    'music':'category',\n",
        "    'level_group':'category'}\n",
        "\n"
      ],
      "metadata": {
        "id": "5DJKtsWwu0CK"
      },
      "execution_count": 3,
      "outputs": []
    },
    {
      "cell_type": "code",
      "source": [
        "from google.colab import drive\n",
        "drive.mount('/content/drive')\n",
        "\n",
        "dataset_df = pd.read_csv('/content/drive/MyDrive/9417project/train.csv', dtype=dtypes)\n",
        "labels = pd.read_csv('/content/drive/MyDrive/9417project/train_labels.csv')"
      ],
      "metadata": {
        "colab": {
          "base_uri": "https://localhost:8080/"
        },
        "id": "3F7gNtIb8UF-",
        "outputId": "ec709f25-fa88-4a8e-818f-f46ab7c90a44"
      },
      "execution_count": 5,
      "outputs": [
        {
          "output_type": "stream",
          "name": "stdout",
          "text": [
            "Drive already mounted at /content/drive; to attempt to forcibly remount, call drive.mount(\"/content/drive\", force_remount=True).\n"
          ]
        }
      ]
    },
    {
      "cell_type": "code",
      "source": [
        "#Reduce Memory Usage\n",
        "def reduce_memory_usage(df):\n",
        "\n",
        "    start_mem = df.memory_usage().sum() / 1024**2\n",
        "    print('Memory usage of dataframe is {:.2f} MB'.format(start_mem))\n",
        "\n",
        "    for col in df.columns:\n",
        "        col_type = df[col].dtype.name\n",
        "        if ((col_type != 'datetime64[ns]') & (col_type != 'category')):\n",
        "            if (col_type != 'object'):\n",
        "                c_min = df[col].min()\n",
        "                c_max = df[col].max()\n",
        "\n",
        "                if str(col_type)[:3] == 'int':\n",
        "                    if c_min > np.iinfo(np.int8).min and c_max < np.iinfo(np.int8).max:\n",
        "                        df[col] = df[col].astype(np.int8)\n",
        "                    elif c_min > np.iinfo(np.int16).min and c_max < np.iinfo(np.int16).max:\n",
        "                        df[col] = df[col].astype(np.int16)\n",
        "                    elif c_min > np.iinfo(np.int32).min and c_max < np.iinfo(np.int32).max:\n",
        "                        df[col] = df[col].astype(np.int32)\n",
        "                    elif c_min > np.iinfo(np.int64).min and c_max < np.iinfo(np.int64).max:\n",
        "                        df[col] = df[col].astype(np.int64)\n",
        "\n",
        "                else:\n",
        "                    if c_min > np.finfo(np.float16).min and c_max < np.finfo(np.float16).max:\n",
        "                        df[col] = df[col].astype(np.float16)\n",
        "                    elif c_min > np.finfo(np.float32).min and c_max < np.finfo(np.float32).max:\n",
        "                        df[col] = df[col].astype(np.float32)\n",
        "                    else:\n",
        "                        pass\n",
        "            else:\n",
        "                df[col] = df[col].astype('category')\n",
        "    mem_usg = df.memory_usage().sum() / 1024**2\n",
        "    print(\"Memory usage became: \",mem_usg,\" MB\")\n",
        "\n",
        "    return df\n",
        "dataset_df = reduce_memory_usage(dataset_df)"
      ],
      "metadata": {
        "id": "_24CBsOTIfTd",
        "colab": {
          "base_uri": "https://localhost:8080/"
        },
        "outputId": "69f92051-4d74-4419-8ef9-024379cb6336"
      },
      "execution_count": 6,
      "outputs": [
        {
          "output_type": "stream",
          "name": "stdout",
          "text": [
            "Memory usage of dataframe is 1529.83 MB\n",
            "Memory usage became:  1053.3384094238281  MB\n"
          ]
        }
      ]
    },
    {
      "cell_type": "code",
      "source": [
        "print(\"Full train dataset shape is {}\".format(dataset_df.shape))\n",
        "dataset_df.head(5)"
      ],
      "metadata": {
        "id": "uxJbdsU9u0Xd"
      },
      "execution_count": null,
      "outputs": []
    },
    {
      "cell_type": "code",
      "source": [
        "labels['session'] = labels.session_id.apply(lambda x: int(x.split('_')[0]) )\n",
        "labels['q'] = labels.session_id.apply(lambda x: int(x.split('_')[-1][1:]) )\n",
        "labels.head(5)\n",
        "\n"
      ],
      "metadata": {
        "colab": {
          "base_uri": "https://localhost:8080/",
          "height": 206
        },
        "id": "vliYzKALwLww",
        "outputId": "ec6eb279-9fb9-48f0-b395-eb0fa1af61b4"
      },
      "execution_count": 7,
      "outputs": [
        {
          "output_type": "execute_result",
          "data": {
            "text/plain": [
              "             session_id  correct            session  q\n",
              "0  20090312431273200_q1        1  20090312431273200  1\n",
              "1  20090312433251036_q1        0  20090312433251036  1\n",
              "2  20090312455206810_q1        1  20090312455206810  1\n",
              "3  20090313091715820_q1        0  20090313091715820  1\n",
              "4  20090313571836404_q1        1  20090313571836404  1"
            ],
            "text/html": [
              "\n",
              "\n",
              "  <div id=\"df-3d7637c5-3059-4646-96ac-80df6b8b1a91\">\n",
              "    <div class=\"colab-df-container\">\n",
              "      <div>\n",
              "<style scoped>\n",
              "    .dataframe tbody tr th:only-of-type {\n",
              "        vertical-align: middle;\n",
              "    }\n",
              "\n",
              "    .dataframe tbody tr th {\n",
              "        vertical-align: top;\n",
              "    }\n",
              "\n",
              "    .dataframe thead th {\n",
              "        text-align: right;\n",
              "    }\n",
              "</style>\n",
              "<table border=\"1\" class=\"dataframe\">\n",
              "  <thead>\n",
              "    <tr style=\"text-align: right;\">\n",
              "      <th></th>\n",
              "      <th>session_id</th>\n",
              "      <th>correct</th>\n",
              "      <th>session</th>\n",
              "      <th>q</th>\n",
              "    </tr>\n",
              "  </thead>\n",
              "  <tbody>\n",
              "    <tr>\n",
              "      <th>0</th>\n",
              "      <td>20090312431273200_q1</td>\n",
              "      <td>1</td>\n",
              "      <td>20090312431273200</td>\n",
              "      <td>1</td>\n",
              "    </tr>\n",
              "    <tr>\n",
              "      <th>1</th>\n",
              "      <td>20090312433251036_q1</td>\n",
              "      <td>0</td>\n",
              "      <td>20090312433251036</td>\n",
              "      <td>1</td>\n",
              "    </tr>\n",
              "    <tr>\n",
              "      <th>2</th>\n",
              "      <td>20090312455206810_q1</td>\n",
              "      <td>1</td>\n",
              "      <td>20090312455206810</td>\n",
              "      <td>1</td>\n",
              "    </tr>\n",
              "    <tr>\n",
              "      <th>3</th>\n",
              "      <td>20090313091715820_q1</td>\n",
              "      <td>0</td>\n",
              "      <td>20090313091715820</td>\n",
              "      <td>1</td>\n",
              "    </tr>\n",
              "    <tr>\n",
              "      <th>4</th>\n",
              "      <td>20090313571836404_q1</td>\n",
              "      <td>1</td>\n",
              "      <td>20090313571836404</td>\n",
              "      <td>1</td>\n",
              "    </tr>\n",
              "  </tbody>\n",
              "</table>\n",
              "</div>\n",
              "      <button class=\"colab-df-convert\" onclick=\"convertToInteractive('df-3d7637c5-3059-4646-96ac-80df6b8b1a91')\"\n",
              "              title=\"Convert this dataframe to an interactive table.\"\n",
              "              style=\"display:none;\">\n",
              "\n",
              "  <svg xmlns=\"http://www.w3.org/2000/svg\" height=\"24px\"viewBox=\"0 0 24 24\"\n",
              "       width=\"24px\">\n",
              "    <path d=\"M0 0h24v24H0V0z\" fill=\"none\"/>\n",
              "    <path d=\"M18.56 5.44l.94 2.06.94-2.06 2.06-.94-2.06-.94-.94-2.06-.94 2.06-2.06.94zm-11 1L8.5 8.5l.94-2.06 2.06-.94-2.06-.94L8.5 2.5l-.94 2.06-2.06.94zm10 10l.94 2.06.94-2.06 2.06-.94-2.06-.94-.94-2.06-.94 2.06-2.06.94z\"/><path d=\"M17.41 7.96l-1.37-1.37c-.4-.4-.92-.59-1.43-.59-.52 0-1.04.2-1.43.59L10.3 9.45l-7.72 7.72c-.78.78-.78 2.05 0 2.83L4 21.41c.39.39.9.59 1.41.59.51 0 1.02-.2 1.41-.59l7.78-7.78 2.81-2.81c.8-.78.8-2.07 0-2.86zM5.41 20L4 18.59l7.72-7.72 1.47 1.35L5.41 20z\"/>\n",
              "  </svg>\n",
              "      </button>\n",
              "\n",
              "\n",
              "\n",
              "    <div id=\"df-5f429761-5a4a-437a-bb66-a4d9f98d5923\">\n",
              "      <button class=\"colab-df-quickchart\" onclick=\"quickchart('df-5f429761-5a4a-437a-bb66-a4d9f98d5923')\"\n",
              "              title=\"Suggest charts.\"\n",
              "              style=\"display:none;\">\n",
              "\n",
              "<svg xmlns=\"http://www.w3.org/2000/svg\" height=\"24px\"viewBox=\"0 0 24 24\"\n",
              "     width=\"24px\">\n",
              "    <g>\n",
              "        <path d=\"M19 3H5c-1.1 0-2 .9-2 2v14c0 1.1.9 2 2 2h14c1.1 0 2-.9 2-2V5c0-1.1-.9-2-2-2zM9 17H7v-7h2v7zm4 0h-2V7h2v10zm4 0h-2v-4h2v4z\"/>\n",
              "    </g>\n",
              "</svg>\n",
              "      </button>\n",
              "    </div>\n",
              "\n",
              "<style>\n",
              "  .colab-df-quickchart {\n",
              "    background-color: #E8F0FE;\n",
              "    border: none;\n",
              "    border-radius: 50%;\n",
              "    cursor: pointer;\n",
              "    display: none;\n",
              "    fill: #1967D2;\n",
              "    height: 32px;\n",
              "    padding: 0 0 0 0;\n",
              "    width: 32px;\n",
              "  }\n",
              "\n",
              "  .colab-df-quickchart:hover {\n",
              "    background-color: #E2EBFA;\n",
              "    box-shadow: 0px 1px 2px rgba(60, 64, 67, 0.3), 0px 1px 3px 1px rgba(60, 64, 67, 0.15);\n",
              "    fill: #174EA6;\n",
              "  }\n",
              "\n",
              "  [theme=dark] .colab-df-quickchart {\n",
              "    background-color: #3B4455;\n",
              "    fill: #D2E3FC;\n",
              "  }\n",
              "\n",
              "  [theme=dark] .colab-df-quickchart:hover {\n",
              "    background-color: #434B5C;\n",
              "    box-shadow: 0px 1px 3px 1px rgba(0, 0, 0, 0.15);\n",
              "    filter: drop-shadow(0px 1px 2px rgba(0, 0, 0, 0.3));\n",
              "    fill: #FFFFFF;\n",
              "  }\n",
              "</style>\n",
              "\n",
              "    <script>\n",
              "      async function quickchart(key) {\n",
              "        const containerElement = document.querySelector('#' + key);\n",
              "        const charts = await google.colab.kernel.invokeFunction(\n",
              "            'suggestCharts', [key], {});\n",
              "      }\n",
              "    </script>\n",
              "\n",
              "      <script>\n",
              "\n",
              "function displayQuickchartButton(domScope) {\n",
              "  let quickchartButtonEl =\n",
              "    domScope.querySelector('#df-5f429761-5a4a-437a-bb66-a4d9f98d5923 button.colab-df-quickchart');\n",
              "  quickchartButtonEl.style.display =\n",
              "    google.colab.kernel.accessAllowed ? 'block' : 'none';\n",
              "}\n",
              "\n",
              "        displayQuickchartButton(document);\n",
              "      </script>\n",
              "      <style>\n",
              "    .colab-df-container {\n",
              "      display:flex;\n",
              "      flex-wrap:wrap;\n",
              "      gap: 12px;\n",
              "    }\n",
              "\n",
              "    .colab-df-convert {\n",
              "      background-color: #E8F0FE;\n",
              "      border: none;\n",
              "      border-radius: 50%;\n",
              "      cursor: pointer;\n",
              "      display: none;\n",
              "      fill: #1967D2;\n",
              "      height: 32px;\n",
              "      padding: 0 0 0 0;\n",
              "      width: 32px;\n",
              "    }\n",
              "\n",
              "    .colab-df-convert:hover {\n",
              "      background-color: #E2EBFA;\n",
              "      box-shadow: 0px 1px 2px rgba(60, 64, 67, 0.3), 0px 1px 3px 1px rgba(60, 64, 67, 0.15);\n",
              "      fill: #174EA6;\n",
              "    }\n",
              "\n",
              "    [theme=dark] .colab-df-convert {\n",
              "      background-color: #3B4455;\n",
              "      fill: #D2E3FC;\n",
              "    }\n",
              "\n",
              "    [theme=dark] .colab-df-convert:hover {\n",
              "      background-color: #434B5C;\n",
              "      box-shadow: 0px 1px 3px 1px rgba(0, 0, 0, 0.15);\n",
              "      filter: drop-shadow(0px 1px 2px rgba(0, 0, 0, 0.3));\n",
              "      fill: #FFFFFF;\n",
              "    }\n",
              "  </style>\n",
              "\n",
              "      <script>\n",
              "        const buttonEl =\n",
              "          document.querySelector('#df-3d7637c5-3059-4646-96ac-80df6b8b1a91 button.colab-df-convert');\n",
              "        buttonEl.style.display =\n",
              "          google.colab.kernel.accessAllowed ? 'block' : 'none';\n",
              "\n",
              "        async function convertToInteractive(key) {\n",
              "          const element = document.querySelector('#df-3d7637c5-3059-4646-96ac-80df6b8b1a91');\n",
              "          const dataTable =\n",
              "            await google.colab.kernel.invokeFunction('convertToInteractive',\n",
              "                                                     [key], {});\n",
              "          if (!dataTable) return;\n",
              "\n",
              "          const docLinkHtml = 'Like what you see? Visit the ' +\n",
              "            '<a target=\"_blank\" href=https://colab.research.google.com/notebooks/data_table.ipynb>data table notebook</a>'\n",
              "            + ' to learn more about interactive tables.';\n",
              "          element.innerHTML = '';\n",
              "          dataTable['output_type'] = 'display_data';\n",
              "          await google.colab.output.renderOutput(dataTable, element);\n",
              "          const docLink = document.createElement('div');\n",
              "          docLink.innerHTML = docLinkHtml;\n",
              "          element.appendChild(docLink);\n",
              "        }\n",
              "      </script>\n",
              "    </div>\n",
              "  </div>\n"
            ]
          },
          "metadata": {},
          "execution_count": 7
        }
      ]
    },
    {
      "cell_type": "code",
      "source": [
        "print(\"Full label dataset shape is {}\".format(labels.shape))"
      ],
      "metadata": {
        "colab": {
          "base_uri": "https://localhost:8080/"
        },
        "id": "pz9WQne5S85d",
        "outputId": "3b3ffe38-accd-47e3-89f6-1d517396f089"
      },
      "execution_count": 52,
      "outputs": [
        {
          "output_type": "stream",
          "name": "stdout",
          "text": [
            "Full label dataset shape is (424116, 4)\n"
          ]
        }
      ]
    },
    {
      "cell_type": "markdown",
      "source": [],
      "metadata": {
        "id": "FDYrO-S0R3eD"
      }
    },
    {
      "cell_type": "code",
      "source": [
        "CATEGORICAL = ['event_name', 'name','fqid', 'room_fqid', 'text_fqid']\n",
        "NUMERICAL = ['elapsed_time','level','page','room_coor_x', 'room_coor_y',\n",
        "        'screen_coor_x', 'screen_coor_y', 'hover_duration']"
      ],
      "metadata": {
        "id": "HecR2WqVAkAX"
      },
      "execution_count": 8,
      "outputs": []
    },
    {
      "cell_type": "code",
      "source": [
        "def feature_engineer(dataset_df):\n",
        "    dfs = []\n",
        "    for c in CATEGORICAL:\n",
        "        tmp = dataset_df.groupby(['session_id','level_group'])[c].agg('nunique')\n",
        "        tmp.name = tmp.name + '_nunique'\n",
        "        dfs.append(tmp)\n",
        "    for c in NUMERICAL:\n",
        "        tmp = dataset_df.groupby(['session_id','level_group'])[c].agg('mean')\n",
        "        dfs.append(tmp)\n",
        "    for c in NUMERICAL:\n",
        "        tmp = dataset_df.groupby(['session_id','level_group'])[c].agg('std')\n",
        "        tmp.name = tmp.name + '_std'\n",
        "        dfs.append(tmp)\n",
        "    dataset_df = pd.concat(dfs,axis=1)\n",
        "    dataset_df = dataset_df.fillna(-1)\n",
        "    dataset_df = dataset_df.reset_index()\n",
        "    dataset_df = dataset_df.set_index('session_id')\n",
        "    return dataset_df"
      ],
      "metadata": {
        "id": "LKnTJdRLA0a-"
      },
      "execution_count": 9,
      "outputs": []
    },
    {
      "cell_type": "code",
      "source": [
        "dataset_df = feature_engineer(dataset_df)\n",
        "print(\"Full prepared dataset shape is {}\".format(dataset_df.shape))"
      ],
      "metadata": {
        "colab": {
          "base_uri": "https://localhost:8080/"
        },
        "id": "yE9dMsXYA5J2",
        "outputId": "7c9e59ac-b858-4909-cb08-d1b1c72ce4f9"
      },
      "execution_count": 10,
      "outputs": [
        {
          "output_type": "stream",
          "name": "stdout",
          "text": [
            "Full prepared dataset shape is (70686, 22)\n"
          ]
        }
      ]
    },
    {
      "cell_type": "code",
      "source": [
        "#dataset_df.head(25)\n",
        "print(dataset_df.index.unique())"
      ],
      "metadata": {
        "id": "3esc2sMUCA8Q"
      },
      "execution_count": null,
      "outputs": []
    },
    {
      "cell_type": "code",
      "source": [
        "def split_dataset(dataset, test_ratio=0.20):\n",
        "    USER_LIST = dataset.index.unique()\n",
        "    split = int(len(USER_LIST) * (1 - 0.20))\n",
        "    return dataset.loc[USER_LIST[:split]], dataset.loc[USER_LIST[split:]]\n",
        "\n",
        "train_x, valid_x = split_dataset(dataset_df)\n",
        "print(\"{} examples in training, {} examples in testing.\".format(\n",
        "    len(train_x), len(valid_x)))"
      ],
      "metadata": {
        "colab": {
          "base_uri": "https://localhost:8080/"
        },
        "id": "PYTt4-W8DAOc",
        "outputId": "46aca976-f77d-44b7-b5aa-3fae2ef73731"
      },
      "execution_count": 11,
      "outputs": [
        {
          "output_type": "stream",
          "name": "stdout",
          "text": [
            "56547 examples in training, 14139 examples in testing.\n"
          ]
        }
      ]
    },
    {
      "cell_type": "markdown",
      "source": [
        "SVM model"
      ],
      "metadata": {
        "id": "RGuCeo8Ff1p7"
      }
    },
    {
      "cell_type": "code",
      "source": [
        "from tensorflow import keras\n",
        "\n",
        "from keras.layers import Activation, Dense\n",
        "from keras.regularizers import l2\n",
        "from keras.models import Sequential\n",
        "from sklearn.metrics import f1_score\n",
        "from sklearn.svm import SVC\n",
        "model = SVC(probability=True)"
      ],
      "metadata": {
        "id": "LVnjwxKZfzoL"
      },
      "execution_count": 12,
      "outputs": []
    },
    {
      "cell_type": "code",
      "source": [
        "# Fetch the unique list of user sessions in the validation dataset. We assigned\n",
        "# `session_id` as the index of our feature engineered dataset. Hence fetching\n",
        "# the unique values in the index column will give us a list of users in the\n",
        "# validation set.\n",
        "VALID_USER_LIST = valid_x.index.unique()\n",
        "\n",
        "# Create a dataframe for storing the predictions of each question for all users\n",
        "# in the validation set.\n",
        "# For this, the required size of the data frame is:\n",
        "# (no: of users in validation set  x no of questions).\n",
        "# We will initialize all the predicted values in the data frame to zero.\n",
        "# The dataframe's index column is the user `session_id`s.\n",
        "prediction_df = pd.DataFrame(data=np.zeros((len(VALID_USER_LIST),18)), index=VALID_USER_LIST)\n",
        "\n",
        "# Create an empty dictionary to store the models created for each question.\n",
        "models = {}\n",
        "\n",
        "# Create an empty dictionary to store the evaluation score for each question.\n",
        "evaluation_dict ={}"
      ],
      "metadata": {
        "id": "MnY2rpJUDRMl"
      },
      "execution_count": 13,
      "outputs": []
    },
    {
      "cell_type": "code",
      "source": [
        "\n",
        "for q_no in range(1,19):\n",
        "\n",
        "    # Select level group for the question based on the q_no.\n",
        "    if q_no<=3: grp = '0-4'\n",
        "    elif q_no<=13: grp = '5-12'\n",
        "    elif q_no<=22: grp = '13-22'\n",
        "    print(\"### q_no\", q_no, \"grp\", grp)\n",
        "\n",
        "\n",
        "    # Filter the rows in the datasets based on the selected level group.\n",
        "    train_df = train_x.loc[train_x.level_group == grp]\n",
        "    train_users = train_df.index.values\n",
        "    valid_df = valid_x.loc[valid_x.level_group == grp]\n",
        "    valid_users = valid_df.index.values\n",
        "\n",
        "    # Drop the 'correct' and 'level_group' columns from the features\n",
        "    train_df = train_df.drop(columns=[\"level_group\"])\n",
        "    valid_df = valid_df.drop(columns=[\"level_group\"])\n",
        "\n",
        "    # Select the labels for the related q_no.\n",
        "    train_labels = labels.loc[labels.q==q_no].set_index('session').loc[train_users]\n",
        "    valid_labels = labels.loc[labels.q==q_no].set_index('session').loc[valid_users]\n",
        "    train_labels = train_labels['correct']\n",
        "    valid_labels = valid_labels['correct']\n",
        "    print(train_labels)\n",
        "    #train_df = np.asarray(train_df).astype(np.float32)\n",
        "    #train_labels = np.asarray(train_labels).astype(np.float32)\n",
        "\n",
        "    # Add the label to the filtered datasets.\n",
        "    # train_dataset = tf.data.Dataset.from_tensor_slices((train_df, train_labels))\n",
        "    # test_dataset = tf.data.Dataset.from_tensor_slices((valid_df, valid_labels))\n",
        "\n",
        "    # train_dataset = train_dataset.shuffle(buffer_size=1000).batch(batch_size)\n",
        "    # test_dataset = test_dataset.batch(batch_size)\n",
        "\n",
        "    # SVM_model = keras.Sequential()\n",
        "    # SVM_model.add(Dense(64, activation='relu'))\n",
        "    # SVM_model.add(Dense(1, kernel_regularizer=l2(0.01)))\n",
        "    # SVM_model.add(layers.Activation('linear'))\n",
        "\n",
        "    # SVM_model.compile(loss='hinge',\n",
        "    #           optimizer='adam',\n",
        "    #           metrics=['accuracy'])\n",
        "    # Train the model.\n",
        "    print(train_df.shape)\n",
        "    #SVM_model.fit(train_dataset,epochs=50)\n",
        "    model.fit(train_df,train_labels)\n",
        "    model.score(valid_df,valid_labels)\n",
        "\n",
        "    valid_pred = model.predict(valid_df)\n",
        "    valid_pred_proba = model.predict_proba(valid_df)[:, 1]\n",
        "    # Store the model\n",
        "\n",
        "    #models[f'{grp}_{q_no}'] = SVM_model\n",
        "    # Evaluate the trained model on the validation dataset and store the\n",
        "    # evaluation accuracy in the `evaluation_dict`.\n",
        "    #loss, accuracy = SVM_model.evaluate(test_dataset,return_dict=True)\n",
        "\n",
        "    #evaluation_dict[q_no] = accuracy\n",
        "\n",
        "    # Use the trained model to make predictions on the validation dataset and\n",
        "    # store the predicted values in the `prediction_df` dataframe.\n",
        "    #predict = SVM_model.predict(test_dataset)\n",
        "    prediction_df.loc[valid_users, q_no-1] = valid_pred_proba.flatten()"
      ],
      "metadata": {
        "colab": {
          "base_uri": "https://localhost:8080/"
        },
        "id": "OvY0TInWDSk0",
        "outputId": "6287fe0d-608c-4b44-b5ca-3c58ca34d9bb"
      },
      "execution_count": 14,
      "outputs": [
        {
          "output_type": "stream",
          "name": "stdout",
          "text": [
            "### q_no 1 grp 0-4\n",
            "session\n",
            "20090312431273200    1\n",
            "20090312433251036    0\n",
            "20090312455206810    1\n",
            "20090313091715820    0\n",
            "20090313571836404    1\n",
            "                    ..\n",
            "22000319034806750    0\n",
            "22000319082126604    1\n",
            "22000319092201970    1\n",
            "22000319145510864    1\n",
            "22000319365553870    1\n",
            "Name: correct, Length: 18849, dtype: int64\n",
            "(18849, 21)\n",
            "[0.72627703 0.72627834 0.72627814 ... 0.72627567 0.72627817 0.72627523]\n",
            "f1_score: 0.8454189122978932\n",
            "### q_no 2 grp 0-4\n",
            "session\n",
            "20090312431273200    1\n",
            "20090312433251036    1\n",
            "20090312455206810    1\n",
            "20090313091715820    1\n",
            "20090313571836404    1\n",
            "                    ..\n",
            "22000319034806750    1\n",
            "22000319082126604    1\n",
            "22000319092201970    1\n",
            "22000319145510864    1\n",
            "22000319365553870    1\n",
            "Name: correct, Length: 18849, dtype: int64\n",
            "(18849, 21)\n",
            "[0.97966906 0.97966952 0.97966937 ... 0.97966766 0.97966952 0.9796675 ]\n",
            "f1_score: 0.9876490172913758\n",
            "### q_no 3 grp 0-4\n",
            "session\n",
            "20090312431273200    1\n",
            "20090312433251036    1\n",
            "20090312455206810    1\n",
            "20090313091715820    1\n",
            "20090313571836404    1\n",
            "                    ..\n",
            "22000319034806750    1\n",
            "22000319082126604    0\n",
            "22000319092201970    1\n",
            "22000319145510864    1\n",
            "22000319365553870    1\n",
            "Name: correct, Length: 18849, dtype: int64\n",
            "(18849, 21)\n",
            "[0.93383764 0.93383374 0.93383424 ... 0.93384147 0.93383419 0.93384262]\n",
            "f1_score: 0.9664473684210526\n",
            "### q_no 4 grp 5-12\n",
            "session\n",
            "20090312431273200    1\n",
            "20090312433251036    1\n",
            "20090312455206810    1\n",
            "20090313091715820    1\n",
            "20090313571836404    1\n",
            "                    ..\n",
            "22000319034806750    0\n",
            "22000319082126604    1\n",
            "22000319092201970    1\n",
            "22000319145510864    1\n",
            "22000319365553870    1\n",
            "Name: correct, Length: 18849, dtype: int64\n",
            "(18849, 21)\n",
            "[0.80018488 0.80017937 0.80017847 ... 0.80020576 0.80018096 0.80025431]\n",
            "f1_score: 0.8834399431414357\n",
            "### q_no 5 grp 5-12\n",
            "session\n",
            "20090312431273200    1\n",
            "20090312433251036    0\n",
            "20090312455206810    1\n",
            "20090313091715820    1\n",
            "20090313571836404    1\n",
            "                    ..\n",
            "22000319034806750    0\n",
            "22000319082126604    1\n",
            "22000319092201970    0\n",
            "22000319145510864    0\n",
            "22000319365553870    0\n",
            "Name: correct, Length: 18849, dtype: int64\n",
            "(18849, 21)\n",
            "[0.5525315  0.55371858 0.55397546 ... 0.55013781 0.55332631 0.5       ]\n",
            "f1_score: 0.7113742770586616\n",
            "### q_no 6 grp 5-12\n",
            "session\n",
            "20090312431273200    1\n",
            "20090312433251036    1\n",
            "20090312455206810    1\n",
            "20090313091715820    0\n",
            "20090313571836404    1\n",
            "                    ..\n",
            "22000319034806750    0\n",
            "22000319082126604    1\n",
            "22000319092201970    1\n",
            "22000319145510864    1\n",
            "22000319365553870    1\n",
            "Name: correct, Length: 18849, dtype: int64\n",
            "(18849, 21)\n",
            "[0.7731544  0.77315452 0.77315453 ... 0.77315401 0.77315448 0.77315267]\n",
            "f1_score: 0.8809212869523922\n",
            "### q_no 7 grp 5-12\n",
            "session\n",
            "20090312431273200    1\n",
            "20090312433251036    1\n",
            "20090312455206810    1\n",
            "20090313091715820    1\n",
            "20090313571836404    1\n",
            "                    ..\n",
            "22000319034806750    0\n",
            "22000319082126604    1\n",
            "22000319092201970    1\n",
            "22000319145510864    1\n",
            "22000319365553870    1\n",
            "Name: correct, Length: 18849, dtype: int64\n",
            "(18849, 21)\n",
            "[0.73349122 0.73349402 0.73349462 ... 0.73348259 0.73349318 0.73343217]\n",
            "f1_score: 0.8545388261028072\n",
            "### q_no 8 grp 5-12\n",
            "session\n",
            "20090312431273200    1\n",
            "20090312433251036    0\n",
            "20090312455206810    1\n",
            "20090313091715820    1\n",
            "20090313571836404    1\n",
            "                    ..\n",
            "22000319034806750    1\n",
            "22000319082126604    0\n",
            "22000319092201970    0\n",
            "22000319145510864    1\n",
            "22000319365553870    1\n",
            "Name: correct, Length: 18849, dtype: int64\n",
            "(18849, 21)\n",
            "[0.61484823 0.61484686 0.61484667 ... 0.61485412 0.61484724 0.61486151]\n",
            "f1_score: 0.7747724317295187\n",
            "### q_no 9 grp 5-12\n",
            "session\n",
            "20090312431273200    1\n",
            "20090312433251036    1\n",
            "20090312455206810    1\n",
            "20090313091715820    1\n",
            "20090313571836404    1\n",
            "                    ..\n",
            "22000319034806750    0\n",
            "22000319082126604    1\n",
            "22000319092201970    1\n",
            "22000319145510864    1\n",
            "22000319365553870    0\n",
            "Name: correct, Length: 18849, dtype: int64\n",
            "(18849, 21)\n",
            "[0.7307398  0.73074029 0.73074037 ... 0.73073794 0.73074015 0.73073211]\n",
            "f1_score: 0.8624185372918176\n",
            "### q_no 10 grp 5-12\n",
            "session\n",
            "20090312431273200    1\n",
            "20090312433251036    0\n",
            "20090312455206810    1\n",
            "20090313091715820    0\n",
            "20090313571836404    1\n",
            "                    ..\n",
            "22000319034806750    0\n",
            "22000319082126604    1\n",
            "22000319092201970    0\n",
            "22000319145510864    0\n",
            "22000319365553870    1\n",
            "Name: correct, Length: 18849, dtype: int64\n",
            "(18849, 21)\n",
            "[0.51621807 0.51921083 0.51964907 ... 0.5        0.51831316 0.42983021]\n",
            "f1_score: 0.6717513311267809\n",
            "### q_no 11 grp 5-12\n",
            "session\n",
            "20090312431273200    1\n",
            "20090312433251036    0\n",
            "20090312455206810    1\n",
            "20090313091715820    0\n",
            "20090313571836404    1\n",
            "                    ..\n",
            "22000319034806750    0\n",
            "22000319082126604    0\n",
            "22000319092201970    0\n",
            "22000319145510864    0\n",
            "22000319365553870    0\n",
            "Name: correct, Length: 18849, dtype: int64\n",
            "(18849, 21)\n",
            "[0.64538532 0.64538629 0.64538646 ... 0.64538146 0.64538602 0.64537285]\n",
            "f1_score: 0.7879099678456591\n",
            "### q_no 12 grp 5-12\n",
            "session\n",
            "20090312431273200    1\n",
            "20090312433251036    1\n",
            "20090312455206810    1\n",
            "20090313091715820    1\n",
            "20090313571836404    0\n",
            "                    ..\n",
            "22000319034806750    1\n",
            "22000319082126604    1\n",
            "22000319092201970    1\n",
            "22000319145510864    0\n",
            "22000319365553870    1\n",
            "Name: correct, Length: 18849, dtype: int64\n",
            "(18849, 21)\n",
            "[0.86132539 0.8613286  0.86132962 ... 0.86131058 0.86132786 0.86124316]\n",
            "f1_score: 0.9305650102110279\n",
            "### q_no 13 grp 5-12\n",
            "session\n",
            "20090312431273200    0\n",
            "20090312433251036    0\n",
            "20090312455206810    1\n",
            "20090313091715820    0\n",
            "20090313571836404    1\n",
            "                    ..\n",
            "22000319034806750    0\n",
            "22000319082126604    0\n",
            "22000319092201970    0\n",
            "22000319145510864    0\n",
            "22000319365553870    0\n",
            "Name: correct, Length: 18849, dtype: int64\n",
            "(18849, 21)\n",
            "[0.27282731 0.27282744 0.27282743 ... 0.27282739 0.27282738 0.27283256]\n",
            "f1_score: 0.0014925373134328358\n",
            "### q_no 14 grp 13-22\n",
            "session\n",
            "20090312431273200    1\n",
            "20090312433251036    1\n",
            "20090312455206810    1\n",
            "20090313091715820    1\n",
            "20090313571836404    0\n",
            "                    ..\n",
            "22000319034806750    1\n",
            "22000319082126604    0\n",
            "22000319092201970    0\n",
            "22000319145510864    0\n",
            "22000319365553870    0\n",
            "Name: correct, Length: 18849, dtype: int64\n",
            "(18849, 21)\n",
            "[0.70247505 0.70246713 0.70246426 ... 0.70248387 0.70246844 0.70250759]\n",
            "f1_score: 0.8423639267723309\n",
            "### q_no 15 grp 13-22\n",
            "session\n",
            "20090312431273200    1\n",
            "20090312433251036    0\n",
            "20090312455206810    0\n",
            "20090313091715820    0\n",
            "20090313571836404    1\n",
            "                    ..\n",
            "22000319034806750    0\n",
            "22000319082126604    0\n",
            "22000319092201970    1\n",
            "22000319145510864    1\n",
            "22000319365553870    0\n",
            "Name: correct, Length: 18849, dtype: int64\n",
            "(18849, 21)\n",
            "[0.47883631 0.47884156 0.47884345 ... 0.47883028 0.47884068 0.47881248]\n",
            "f1_score: 0.019392917369308597\n",
            "### q_no 16 grp 13-22\n",
            "session\n",
            "20090312431273200    0\n",
            "20090312433251036    1\n",
            "20090312455206810    1\n",
            "20090313091715820    1\n",
            "20090313571836404    1\n",
            "                    ..\n",
            "22000319034806750    1\n",
            "22000319082126604    0\n",
            "22000319092201970    1\n",
            "22000319145510864    1\n",
            "22000319365553870    0\n",
            "Name: correct, Length: 18849, dtype: int64\n",
            "(18849, 21)\n",
            "[0.73118378 0.73118531 0.73118586 ... 0.73118205 0.73118502 0.73117743]\n",
            "f1_score: 0.8563455471972823\n",
            "### q_no 17 grp 13-22\n",
            "session\n",
            "20090312431273200    1\n",
            "20090312433251036    0\n",
            "20090312455206810    1\n",
            "20090313091715820    1\n",
            "20090313571836404    1\n",
            "                    ..\n",
            "22000319034806750    1\n",
            "22000319082126604    0\n",
            "22000319092201970    1\n",
            "22000319145510864    0\n",
            "22000319365553870    1\n",
            "Name: correct, Length: 18849, dtype: int64\n",
            "(18849, 21)\n",
            "[0.68395294 0.6839509  0.68395012 ... 0.68395519 0.68395125 0.68395982]\n",
            "f1_score: 0.8260057292315357\n",
            "### q_no 18 grp 13-22\n",
            "session\n",
            "20090312431273200    1\n",
            "20090312433251036    1\n",
            "20090312455206810    1\n",
            "20090313091715820    1\n",
            "20090313571836404    1\n",
            "                    ..\n",
            "22000319034806750    1\n",
            "22000319082126604    1\n",
            "22000319092201970    1\n",
            "22000319145510864    1\n",
            "22000319365553870    1\n",
            "Name: correct, Length: 18849, dtype: int64\n",
            "(18849, 21)\n",
            "[0.95044918 0.95045258 0.95045379 ... 0.95044526 0.95045201 0.95043155]\n",
            "f1_score: 0.9752120026092629\n"
          ]
        }
      ]
    },
    {
      "cell_type": "code",
      "source": [
        "print(prediction_df)\n",
        "print(valid_users)"
      ],
      "metadata": {
        "colab": {
          "base_uri": "https://localhost:8080/"
        },
        "id": "GMCh7fZZD2Fa",
        "outputId": "d93c9911-358d-4fc7-efa7-f45cb4d65d4e"
      },
      "execution_count": 22,
      "outputs": [
        {
          "output_type": "stream",
          "name": "stdout",
          "text": [
            "                         0         1         2         3         4         5   \\\n",
            "session_id                                                                      \n",
            "22000320020067784  0.726277  0.979669  0.933838  0.800185  0.552531  0.773154   \n",
            "22000321083750010  0.726278  0.979670  0.933834  0.800179  0.553719  0.773155   \n",
            "22000401381351532  0.726278  0.979669  0.933834  0.800178  0.553975  0.773155   \n",
            "22000407142860316  0.726277  0.979669  0.933836  0.800194  0.552261  0.773154   \n",
            "22000407572357990  0.726278  0.979669  0.933834  0.800254  0.523193  0.773153   \n",
            "...                     ...       ...       ...       ...       ...       ...   \n",
            "22100215342220508  0.726274  0.979666  0.933845  0.800229  0.544883  0.773154   \n",
            "22100215460321130  0.726276  0.979668  0.933839  0.800207  0.548451  0.773154   \n",
            "22100217104993650  0.726276  0.979668  0.933841  0.800206  0.550138  0.773154   \n",
            "22100219442786200  0.726278  0.979670  0.933834  0.800181  0.553326  0.773154   \n",
            "22100221145014656  0.726275  0.979668  0.933843  0.800254  0.500000  0.773153   \n",
            "\n",
            "                         6         7         8         9         10        11  \\\n",
            "session_id                                                                      \n",
            "22000320020067784  0.733491  0.614848  0.730740  0.516218  0.645385  0.861325   \n",
            "22000321083750010  0.733494  0.614847  0.730740  0.519211  0.645386  0.861329   \n",
            "22000401381351532  0.733495  0.614847  0.730740  0.519649  0.645386  0.861330   \n",
            "22000407142860316  0.733489  0.614851  0.730739  0.511840  0.645384  0.861320   \n",
            "22000407572357990  0.733443  0.614850  0.730732  0.428916  0.645371  0.861241   \n",
            "...                     ...       ...       ...       ...       ...       ...   \n",
            "22100215342220508  0.733470  0.614859  0.730736  0.487629  0.645377  0.861290   \n",
            "22100215460321130  0.733481  0.614854  0.730738  0.500000  0.645381  0.861310   \n",
            "22100217104993650  0.733483  0.614854  0.730738  0.500000  0.645381  0.861311   \n",
            "22100219442786200  0.733493  0.614847  0.730740  0.518313  0.645386  0.861328   \n",
            "22100221145014656  0.733432  0.614862  0.730732  0.429830  0.645373  0.861243   \n",
            "\n",
            "                         12        13        14        15        16        17  \n",
            "session_id                                                                     \n",
            "22000320020067784  0.272827  0.702475  0.478836  0.731184  0.683953  0.950449  \n",
            "22000321083750010  0.272827  0.702467  0.478842  0.731185  0.683951  0.950453  \n",
            "22000401381351532  0.272827  0.702464  0.478843  0.731186  0.683950  0.950454  \n",
            "22000407142860316  0.272827  0.702481  0.478832  0.731183  0.683954  0.950447  \n",
            "22000407572357990  0.272834  0.702506  0.478813  0.731178  0.683960  0.950433  \n",
            "...                     ...       ...       ...       ...       ...       ...  \n",
            "22100215342220508  0.272828  0.703709  0.479684  0.743646  0.681978  0.950397  \n",
            "22100215460321130  0.272827  0.702487  0.478829  0.731182  0.683956  0.950444  \n",
            "22100217104993650  0.272827  0.702484  0.478830  0.731182  0.683955  0.950445  \n",
            "22100219442786200  0.272827  0.702468  0.478841  0.731185  0.683951  0.950452  \n",
            "22100221145014656  0.272833  0.702508  0.478812  0.731177  0.683960  0.950432  \n",
            "\n",
            "[4713 rows x 18 columns]\n",
            "[22000320020067784 22000321083750010 22000401381351532 ...\n",
            " 22100217104993650 22100219442786200 22100221145014656]\n"
          ]
        }
      ]
    },
    {
      "cell_type": "code",
      "source": [
        "for i in valid_pred:\n",
        "  print(i)"
      ],
      "metadata": {
        "id": "u7g4MJlPrCC3"
      },
      "execution_count": null,
      "outputs": []
    },
    {
      "cell_type": "code",
      "source": [
        "\n",
        "valid_labels_correct = train_labels\n",
        "#valid_labels_incorrect = labels.loc[(labels.q==1) & (labels.correct == 0)]\n",
        "print(valid_labels_correct)\n",
        "#print(valid_labels_incorrect)\n",
        "\n",
        "\n",
        "\n"
      ],
      "metadata": {
        "colab": {
          "base_uri": "https://localhost:8080/"
        },
        "id": "HvnF8_NRlvaO",
        "outputId": "57d8a1d2-0b49-48cf-bf1a-d9e2ce825bd9"
      },
      "execution_count": 123,
      "outputs": [
        {
          "output_type": "stream",
          "name": "stdout",
          "text": [
            "session\n",
            "20090312431273200    1\n",
            "20090312433251036    0\n",
            "20090312455206810    1\n",
            "20090313091715820    0\n",
            "20090313571836404    1\n",
            "                    ..\n",
            "22000319034806750    0\n",
            "22000319082126604    1\n",
            "22000319092201970    1\n",
            "22000319145510864    1\n",
            "22000319365553870    1\n",
            "Name: correct, Length: 18849, dtype: int64\n"
          ]
        }
      ]
    },
    {
      "cell_type": "code",
      "source": [
        "print(model.score(valid_df,valid_labels))"
      ],
      "metadata": {
        "colab": {
          "base_uri": "https://localhost:8080/"
        },
        "id": "DgpR9tX_b4_Q",
        "outputId": "b6b62f49-dc36-4a77-efba-d25d48c3e32b"
      },
      "execution_count": 21,
      "outputs": [
        {
          "output_type": "stream",
          "name": "stdout",
          "text": [
            "0.9516231699554424\n"
          ]
        }
      ]
    },
    {
      "cell_type": "code",
      "source": [
        "for name, value in evaluation_dict.items():\n",
        "  print(f\"question {name}: accuracy {value:.4f}\")\n",
        "\n",
        "print(\"\\nAverage accuracy\", sum(evaluation_dict.values())/18)"
      ],
      "metadata": {
        "colab": {
          "base_uri": "https://localhost:8080/"
        },
        "id": "GFtf_3AQFPH8",
        "outputId": "77e48766-1a24-438a-c77a-a1e5102143df"
      },
      "execution_count": 19,
      "outputs": [
        {
          "output_type": "stream",
          "name": "stdout",
          "text": [
            "\n",
            "Average accuracy 0.0\n"
          ]
        }
      ]
    },
    {
      "cell_type": "code",
      "source": [
        "true_df = pd.DataFrame(data=np.zeros((len(VALID_USER_LIST),18)), index=VALID_USER_LIST)\n",
        "for i in range(18):\n",
        "    # Get the true labels.\n",
        "    tmp = labels.loc[labels.q == i+1].set_index('session').loc[VALID_USER_LIST]\n",
        "    true_df[i] = tmp.correct.values\n",
        "\n",
        "max_score = 0; best_threshold = 0\n",
        "\n",
        "# Loop through threshold values from 0.4 to 0.8 and select the threshold with\n",
        "# the highest `F1 score`.\n",
        "# using uniform threashold = 0.5 for the baseline\n",
        "\n",
        "\n",
        "# for threshold in np.arange(0.4,0.8,0.01):\n",
        "#     metric = tf.keras.metrics.F1Score(average=\"macro\",threshold=threshold)\n",
        "#     y_true = tf.one_hot(true_df.values.reshape((-1)), depth=2)\n",
        "#     y_pred = tf.one_hot((prediction_df.values.reshape((-1))>threshold).astype('int'), depth=2)\n",
        "#     metric.update_state(y_true, y_pred)\n",
        "#     f1_score = metric.result().numpy()\n",
        "#     if f1_score > max_score:\n",
        "#         max_score = f1_score\n",
        "#         best_threshold = threshold\n",
        "metric = tf.keras.metrics.F1Score(average=\"macro\",threshold=0.5)\n",
        "y_true = tf.one_hot(true_df.values.reshape((-1)), depth=2)\n",
        "y_pred = tf.one_hot((prediction_df.values.reshape((-1))>0.5).astype('int'), depth=2)\n",
        "metric.update_state(y_true, y_pred)\n",
        "f1_score = metric.result().numpy()\n",
        "\n",
        "#print(\"threshold \", best_threshold, \"\\tF1 score \", max_score)\n",
        "\n",
        "print(\"threshold \", 0.5, \"\\tF1 score \", f1_score)"
      ],
      "metadata": {
        "colab": {
          "base_uri": "https://localhost:8080/"
        },
        "id": "UDuovOdFGIR7",
        "outputId": "36dabaee-bf8d-4a6a-85c0-3bcae40e15b1"
      },
      "execution_count": 27,
      "outputs": [
        {
          "output_type": "stream",
          "name": "stdout",
          "text": [
            "threshold  0.6200000000000002 \tF1 score  0.6503212\n"
          ]
        }
      ]
    },
    {
      "cell_type": "code",
      "source": [
        "from google.colab import drive\n",
        "drive.mount('/content/drive')"
      ],
      "metadata": {
        "id": "vWpm5xgjnTZH"
      },
      "execution_count": null,
      "outputs": []
    }
  ]
}